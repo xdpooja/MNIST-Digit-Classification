version https://git-lfs.github.com/spec/v1
oid sha256:977dd22df690d4076d7f77c0cf77f1449a13efc196796925233634c22b4d6e51
size 18679
