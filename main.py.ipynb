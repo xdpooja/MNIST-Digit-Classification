version https://git-lfs.github.com/spec/v1
oid sha256:ce5c2ff63d73444b89a895d00f94dc17fef9f0b0ff6468f85013d1ec0a0de7b8
size 19623
