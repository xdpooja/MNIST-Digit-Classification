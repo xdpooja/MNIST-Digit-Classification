version https://git-lfs.github.com/spec/v1
oid sha256:2bb72f742fa1febf10e8c3a7531f73cbecc7e8299e87bd37aeab09269b546062
size 15936
